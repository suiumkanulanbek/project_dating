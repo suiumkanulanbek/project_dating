{
 "cells": [
  {
   "cell_type": "markdown",
   "id": "17ea940a-7ccc-45b6-9c06-86aa1f2c2658",
   "metadata": {},
   "source": [
    "**Best & Worst Cities for Singles (2025)** Link: https://wallethub.com/edu/best-worst-cities-for-singles/9015"
   ]
  },
  {
   "cell_type": "code",
   "execution_count": 5,
   "id": "1ecf123d-895f-4a85-a469-2fccb6900f81",
   "metadata": {},
   "outputs": [],
   "source": [
    "import requests\n",
    "from bs4 import BeautifulSoup"
   ]
  },
  {
   "cell_type": "code",
   "execution_count": 11,
   "id": "b94ccf69-9da2-44a6-8210-d820f859191c",
   "metadata": {},
   "outputs": [],
   "source": [
    "url = 'https://wallethub.com/edu/best-worst-cities-for-singles/9015' \n",
    "\n",
    "\n",
    "headers = {\n",
    "    \"User-Agent\": \"Mozilla/5.0 (Windows NT 10.0; Win64; x64) AppleWebKit/537.36 (KHTML, like Gecko) Chrome/120.0.0.0 Safari/537.36\",\n",
    "    \"Accept\": \"text/html,application/xhtml+xml,application/xml\",\n",
    "    \"Accept-Language\": \"en-US,en;q=0.9\"\n",
    "}\n",
    "\n",
    "response = requests.get(url, headers=headers)"
   ]
  },
  {
   "cell_type": "code",
   "execution_count": 12,
   "id": "bbd51707-df9a-4435-8b0d-7fe74f861c7f",
   "metadata": {},
   "outputs": [],
   "source": [
    "soup = BeautifulSoup(response.text, \"html.parser\")"
   ]
  },
  {
   "cell_type": "code",
   "execution_count": 15,
   "id": "6be4bd48-6571-4029-9b28-3b7a5a3f63e2",
   "metadata": {},
   "outputs": [
    {
     "name": "stdout",
     "output_type": "stream",
     "text": [
      "IP Block\n"
     ]
    }
   ],
   "source": [
    "title = soup.title.text  \n",
    "print(title)"
   ]
  },
  {
   "cell_type": "code",
   "execution_count": 16,
   "id": "48e7a006-8e39-4201-b123-cf81d2f525ce",
   "metadata": {},
   "outputs": [
    {
     "name": "stdout",
     "output_type": "stream",
     "text": [
      "Collecting playwright\n",
      "  Downloading playwright-1.52.0-py3-none-macosx_11_0_universal2.whl.metadata (3.5 kB)\n",
      "Collecting pyee<14,>=13 (from playwright)\n",
      "  Downloading pyee-13.0.0-py3-none-any.whl.metadata (2.9 kB)\n",
      "Collecting greenlet<4.0.0,>=3.1.1 (from playwright)\n",
      "  Downloading greenlet-3.2.1-cp311-cp311-macosx_11_0_universal2.whl.metadata (4.1 kB)\n",
      "Requirement already satisfied: typing-extensions in /Users/suiumkanulanbek/.pyenv/versions/3.11.8/lib/python3.11/site-packages (from pyee<14,>=13->playwright) (4.12.2)\n",
      "Downloading playwright-1.52.0-py3-none-macosx_11_0_universal2.whl (39.6 MB)\n",
      "\u001b[2K   \u001b[90m━━━━━━━━━━━━━━━━━━━━━━━━━━━━━━━━━━━━━━━━\u001b[0m \u001b[32m39.6/39.6 MB\u001b[0m \u001b[31m34.5 MB/s\u001b[0m eta \u001b[36m0:00:00\u001b[0m00:01\u001b[0m00:01\u001b[0m\n",
      "Downloading greenlet-3.2.1-cp311-cp311-macosx_11_0_universal2.whl (268 kB)\n",
      "\u001b[2K   \u001b[90m━━━━━━━━━━━━━━━━━━━━━━━━━━━━━━━━━━━━━━━━\u001b[0m \u001b[32m268.6/268.6 kB\u001b[0m \u001b[31m3.3 MB/s\u001b[0m eta \u001b[36m0:00:00\u001b[0m:00:01\u001b[0m\n",
      "Downloading pyee-13.0.0-py3-none-any.whl (15 kB)\n",
      "Installing collected packages: pyee, greenlet, playwright\n",
      "Successfully installed greenlet-3.2.1 playwright-1.52.0 pyee-13.0.0\n",
      "\n",
      "\u001b[1m[\u001b[0m\u001b[34;49mnotice\u001b[0m\u001b[1;39;49m]\u001b[0m\u001b[39;49m A new release of pip is available: \u001b[0m\u001b[31;49m24.0\u001b[0m\u001b[39;49m -> \u001b[0m\u001b[32;49m25.1\u001b[0m\n",
      "\u001b[1m[\u001b[0m\u001b[34;49mnotice\u001b[0m\u001b[1;39;49m]\u001b[0m\u001b[39;49m To update, run: \u001b[0m\u001b[32;49mpip install --upgrade pip\u001b[0m\n"
     ]
    }
   ],
   "source": [
    "!pip install playwright"
   ]
  },
  {
   "cell_type": "code",
   "execution_count": 18,
   "id": "b7273fa1-6053-4a37-ac40-099402218876",
   "metadata": {},
   "outputs": [
    {
     "name": "stdout",
     "output_type": "stream",
     "text": [
      "Downloading Chromium 136.0.7103.25 (playwright build v1169)\u001b[2m from https://cdn.playwright.dev/dbazure/download/playwright/builds/chromium/1169/chromium-mac.zip\u001b[22m\n",
      "\u001b[1G131.9 MiB [                    ] 0% 100.4s\u001b[0K\u001b[1G131.9 MiB [                    ] 0% 7.7s\u001b[0K\u001b[1G131.9 MiB [                    ] 0% 6.0s\u001b[0K\u001b[1G131.9 MiB [                    ] 1% 4.9s\u001b[0K\u001b[1G131.9 MiB [                    ] 1% 4.7s\u001b[0K\u001b[1G131.9 MiB [                    ] 1% 4.4s\u001b[0K\u001b[1G131.9 MiB [                    ] 2% 4.3s\u001b[0K\u001b[1G131.9 MiB [=                   ] 2% 4.6s\u001b[0K\u001b[1G131.9 MiB [=                   ] 2% 4.5s\u001b[0K\u001b[1G131.9 MiB [=                   ] 3% 4.7s\u001b[0K\u001b[1G131.9 MiB [=                   ] 3% 4.9s\u001b[0K\u001b[1G131.9 MiB [=                   ] 3% 5.7s\u001b[0K\u001b[1G131.9 MiB [=                   ] 3% 5.9s\u001b[0K\u001b[1G131.9 MiB [=                   ] 3% 6.2s\u001b[0K\u001b[1G131.9 MiB [=                   ] 4% 6.1s\u001b[0K\u001b[1G131.9 MiB [=                   ] 4% 5.7s\u001b[0K\u001b[1G131.9 MiB [=                   ] 5% 5.2s\u001b[0K\u001b[1G131.9 MiB [=                   ] 6% 4.9s\u001b[0K\u001b[1G131.9 MiB [=                   ] 6% 5.0s\u001b[0K\u001b[1G131.9 MiB [=                   ] 7% 4.9s\u001b[0K\u001b[1G131.9 MiB [==                  ] 7% 4.9s\u001b[0K\u001b[1G131.9 MiB [==                  ] 8% 4.7s\u001b[0K\u001b[1G131.9 MiB [==                  ] 8% 4.9s\u001b[0K\u001b[1G131.9 MiB [==                  ] 8% 4.8s\u001b[0K\u001b[1G131.9 MiB [==                  ] 9% 4.8s\u001b[0K\u001b[1G131.9 MiB [==                  ] 9% 4.9s\u001b[0K\u001b[1G131.9 MiB [==                  ] 9% 5.1s\u001b[0K\u001b[1G131.9 MiB [==                  ] 10% 4.9s\u001b[0K\u001b[1G131.9 MiB [==                  ] 10% 4.8s\u001b[0K\u001b[1G131.9 MiB [==                  ] 11% 4.7s\u001b[0K\u001b[1G131.9 MiB [==                  ] 11% 5.2s\u001b[0K\u001b[1G131.9 MiB [==                  ] 11% 5.3s\u001b[0K\u001b[1G131.9 MiB [==                  ] 12% 5.1s\u001b[0K\u001b[1G131.9 MiB [===                 ] 12% 5.0s\u001b[0K\u001b[1G131.9 MiB [===                 ] 13% 4.7s\u001b[0K\u001b[1G131.9 MiB [===                 ] 14% 4.8s\u001b[0K\u001b[1G131.9 MiB [===                 ] 15% 4.5s\u001b[0K\u001b[1G131.9 MiB [===                 ] 16% 4.4s\u001b[0K\u001b[1G131.9 MiB [====                ] 17% 4.1s\u001b[0K\u001b[1G131.9 MiB [====                ] 18% 4.1s\u001b[0K\u001b[1G131.9 MiB [====                ] 18% 4.2s\u001b[0K\u001b[1G131.9 MiB [====                ] 18% 4.3s\u001b[0K\u001b[1G131.9 MiB [====                ] 18% 4.4s\u001b[0K\u001b[1G131.9 MiB [====                ] 19% 4.4s\u001b[0K\u001b[1G131.9 MiB [====                ] 19% 4.5s\u001b[0K\u001b[1G131.9 MiB [====                ] 19% 4.4s\u001b[0K\u001b[1G131.9 MiB [====                ] 20% 4.3s\u001b[0K\u001b[1G131.9 MiB [====                ] 21% 4.0s\u001b[0K\u001b[1G131.9 MiB [====                ] 21% 4.1s\u001b[0K\u001b[1G131.9 MiB [====                ] 22% 4.2s\u001b[0K\u001b[1G131.9 MiB [=====               ] 23% 4.0s\u001b[0K\u001b[1G131.9 MiB [=====               ] 24% 3.8s\u001b[0K\u001b[1G131.9 MiB [=====               ] 25% 3.7s\u001b[0K\u001b[1G131.9 MiB [=====               ] 26% 3.6s\u001b[0K\u001b[1G131.9 MiB [=====               ] 27% 3.6s\u001b[0K\u001b[1G131.9 MiB [=====               ] 27% 3.7s\u001b[0K\u001b[1G131.9 MiB [=====               ] 27% 3.8s\u001b[0K\u001b[1G131.9 MiB [======              ] 27% 3.8s\u001b[0K\u001b[1G131.9 MiB [======              ] 28% 3.7s\u001b[0K\u001b[1G131.9 MiB [======              ] 29% 3.7s\u001b[0K\u001b[1G131.9 MiB [======              ] 30% 3.6s\u001b[0K\u001b[1G131.9 MiB [======              ] 30% 3.5s\u001b[0K\u001b[1G131.9 MiB [======              ] 31% 3.5s\u001b[0K\u001b[1G131.9 MiB [======              ] 32% 3.4s\u001b[0K\u001b[1G131.9 MiB [=======             ] 32% 3.4s\u001b[0K\u001b[1G131.9 MiB [=======             ] 32% 3.5s\u001b[0K\u001b[1G131.9 MiB [=======             ] 33% 3.5s\u001b[0K\u001b[1G131.9 MiB [=======             ] 33% 3.6s\u001b[0K\u001b[1G131.9 MiB [=======             ] 34% 3.5s\u001b[0K\u001b[1G131.9 MiB [=======             ] 34% 3.6s\u001b[0K\u001b[1G131.9 MiB [=======             ] 34% 3.7s\u001b[0K\u001b[1G131.9 MiB [=======             ] 35% 3.7s\u001b[0K\u001b[1G131.9 MiB [=======             ] 36% 3.5s\u001b[0K\u001b[1G131.9 MiB [=======             ] 36% 3.4s\u001b[0K\u001b[1G131.9 MiB [=======             ] 37% 3.4s\u001b[0K\u001b[1G131.9 MiB [========            ] 37% 3.4s\u001b[0K\u001b[1G131.9 MiB [========            ] 38% 3.3s\u001b[0K\u001b[1G131.9 MiB [========            ] 38% 3.4s\u001b[0K\u001b[1G131.9 MiB [========            ] 39% 3.3s\u001b[0K\u001b[1G131.9 MiB [========            ] 40% 3.3s\u001b[0K\u001b[1G131.9 MiB [========            ] 40% 3.4s\u001b[0K\u001b[1G131.9 MiB [========            ] 41% 3.3s\u001b[0K\u001b[1G131.9 MiB [=========           ] 42% 3.1s\u001b[0K\u001b[1G131.9 MiB [=========           ] 43% 3.2s\u001b[0K\u001b[1G131.9 MiB [=========           ] 44% 3.1s\u001b[0K\u001b[1G131.9 MiB [=========           ] 45% 3.1s\u001b[0K\u001b[1G131.9 MiB [=========           ] 46% 3.1s\u001b[0K\u001b[1G131.9 MiB [=========           ] 47% 3.0s\u001b[0K\u001b[1G131.9 MiB [==========          ] 48% 2.9s\u001b[0K\u001b[1G131.9 MiB [==========          ] 48% 3.0s\u001b[0K\u001b[1G131.9 MiB [==========          ] 49% 3.0s\u001b[0K\u001b[1G131.9 MiB [==========          ] 49% 2.9s\u001b[0K\u001b[1G131.9 MiB [==========          ] 50% 2.8s\u001b[0K\u001b[1G131.9 MiB [==========          ] 51% 2.7s\u001b[0K\u001b[1G131.9 MiB [==========          ] 52% 2.7s\u001b[0K\u001b[1G131.9 MiB [===========         ] 52% 2.7s\u001b[0K\u001b[1G131.9 MiB [===========         ] 53% 2.6s\u001b[0K\u001b[1G131.9 MiB [===========         ] 54% 2.6s\u001b[0K\u001b[1G131.9 MiB [===========         ] 55% 2.6s\u001b[0K\u001b[1G131.9 MiB [===========         ] 55% 2.5s\u001b[0K\u001b[1G131.9 MiB [===========         ] 56% 2.5s\u001b[0K\u001b[1G131.9 MiB [===========         ] 57% 2.4s\u001b[0K\u001b[1G131.9 MiB [============        ] 57% 2.4s\u001b[0K\u001b[1G131.9 MiB [============        ] 59% 2.3s\u001b[0K\u001b[1G131.9 MiB [============        ] 59% 2.2s\u001b[0K\u001b[1G131.9 MiB [============        ] 59% 2.3s\u001b[0K\u001b[1G131.9 MiB [============        ] 60% 2.3s\u001b[0K\u001b[1G131.9 MiB [============        ] 61% 2.2s\u001b[0K\u001b[1G131.9 MiB [============        ] 62% 2.2s\u001b[0K\u001b[1G131.9 MiB [============        ] 62% 2.1s\u001b[0K\u001b[1G131.9 MiB [=============       ] 62% 2.2s\u001b[0K\u001b[1G131.9 MiB [=============       ] 62% 2.1s\u001b[0K\u001b[1G131.9 MiB [=============       ] 63% 2.1s\u001b[0K\u001b[1G131.9 MiB [=============       ] 64% 2.0s\u001b[0K\u001b[1G131.9 MiB [=============       ] 65% 1.9s\u001b[0K\u001b[1G131.9 MiB [=============       ] 67% 1.8s\u001b[0K\u001b[1G131.9 MiB [==============      ] 67% 1.8s\u001b[0K\u001b[1G131.9 MiB [==============      ] 68% 1.7s\u001b[0K\u001b[1G131.9 MiB [==============      ] 69% 1.7s\u001b[0K\u001b[1G131.9 MiB [==============      ] 70% 1.6s\u001b[0K\u001b[1G131.9 MiB [==============      ] 71% 1.6s\u001b[0K\u001b[1G131.9 MiB [==============      ] 72% 1.5s\u001b[0K\u001b[1G131.9 MiB [===============     ] 72% 1.5s\u001b[0K\u001b[1G131.9 MiB [===============     ] 73% 1.5s\u001b[0K\u001b[1G131.9 MiB [===============     ] 73% 1.4s\u001b[0K\u001b[1G131.9 MiB [===============     ] 74% 1.4s\u001b[0K\u001b[1G131.9 MiB [===============     ] 75% 1.3s\u001b[0K\u001b[1G131.9 MiB [===============     ] 76% 1.3s\u001b[0K\u001b[1G131.9 MiB [===============     ] 77% 1.2s\u001b[0K\u001b[1G131.9 MiB [================    ] 78% 1.2s\u001b[0K\u001b[1G131.9 MiB [================    ] 78% 1.1s\u001b[0K\u001b[1G131.9 MiB [================    ] 79% 1.1s\u001b[0K\u001b[1G131.9 MiB [================    ] 80% 1.1s\u001b[0K\u001b[1G131.9 MiB [================    ] 80% 1.0s\u001b[0K\u001b[1G131.9 MiB [================    ] 81% 1.0s\u001b[0K\u001b[1G131.9 MiB [================    ] 82% 0.9s\u001b[0K\u001b[1G131.9 MiB [=================   ] 82% 0.9s\u001b[0K\u001b[1G131.9 MiB [=================   ] 83% 0.9s\u001b[0K\u001b[1G131.9 MiB [=================   ] 84% 0.8s\u001b[0K\u001b[1G131.9 MiB [=================   ] 85% 0.8s\u001b[0K\u001b[1G131.9 MiB [=================   ] 86% 0.8s\u001b[0K\u001b[1G131.9 MiB [=================   ] 86% 0.7s\u001b[0K\u001b[1G131.9 MiB [=================   ] 87% 0.7s\u001b[0K\u001b[1G131.9 MiB [==================  ] 87% 0.7s\u001b[0K\u001b[1G131.9 MiB [==================  ] 88% 0.6s\u001b[0K\u001b[1G131.9 MiB [==================  ] 89% 0.6s\u001b[0K\u001b[1G131.9 MiB [==================  ] 90% 0.5s\u001b[0K\u001b[1G131.9 MiB [==================  ] 91% 0.5s\u001b[0K\u001b[1G131.9 MiB [==================  ] 91% 0.4s\u001b[0K\u001b[1G131.9 MiB [=================== ] 92% 0.4s\u001b[0K\u001b[1G131.9 MiB [=================== ] 93% 0.3s\u001b[0K\u001b[1G131.9 MiB [=================== ] 94% 0.3s\u001b[0K\u001b[1G131.9 MiB [=================== ] 95% 0.2s\u001b[0K\u001b[1G131.9 MiB [=================== ] 96% 0.2s\u001b[0K\u001b[1G131.9 MiB [=================== ] 97% 0.2s\u001b[0K\u001b[1G131.9 MiB [=================== ] 97% 0.1s\u001b[0K\u001b[1G131.9 MiB [====================] 97% 0.1s\u001b[0K\u001b[1G131.9 MiB [====================] 98% 0.1s\u001b[0K\u001b[1G131.9 MiB [====================] 99% 0.0s\u001b[0K\u001b[1G131.9 MiB [====================] 100% 0.0s\u001b[0K\n",
      "Chromium 136.0.7103.25 (playwright build v1169) downloaded to /Users/suiumkanulanbek/Library/Caches/ms-playwright/chromium-1169\n",
      "Downloading Chromium Headless Shell 136.0.7103.25 (playwright build v1169)\u001b[2m from https://cdn.playwright.dev/dbazure/download/playwright/builds/chromium/1169/chromium-headless-shell-mac.zip\u001b[22m\n",
      "\u001b[1G82.8 MiB [                    ] 0% 0.0s\u001b[0K\u001b[1G82.8 MiB [                    ] 0% 78.2s\u001b[0K\u001b[1G82.8 MiB [                    ] 0% 3.5s\u001b[0K\u001b[1G82.8 MiB [                    ] 1% 2.5s\u001b[0K\u001b[1G82.8 MiB [=                   ] 2% 2.5s\u001b[0K\u001b[1G82.8 MiB [=                   ] 4% 2.1s\u001b[0K\u001b[1G82.8 MiB [=                   ] 4% 2.4s\u001b[0K\u001b[1G82.8 MiB [=                   ] 4% 2.7s\u001b[0K\u001b[1G82.8 MiB [=                   ] 5% 2.7s\u001b[0K\u001b[1G82.8 MiB [=                   ] 6% 2.5s\u001b[0K\u001b[1G82.8 MiB [=                   ] 7% 2.4s\u001b[0K\u001b[1G82.8 MiB [==                  ] 8% 2.2s\u001b[0K\u001b[1G82.8 MiB [==                  ] 9% 3.6s\u001b[0K\u001b[1G82.8 MiB [==                  ] 9% 3.7s\u001b[0K\u001b[1G82.8 MiB [==                  ] 9% 3.9s\u001b[0K\u001b[1G82.8 MiB [==                  ] 10% 4.0s\u001b[0K\u001b[1G82.8 MiB [==                  ] 10% 3.8s\u001b[0K\u001b[1G82.8 MiB [==                  ] 11% 3.6s\u001b[0K\u001b[1G82.8 MiB [==                  ] 12% 3.5s\u001b[0K\u001b[1G82.8 MiB [===                 ] 12% 3.7s\u001b[0K\u001b[1G82.8 MiB [===                 ] 13% 3.5s\u001b[0K\u001b[1G82.8 MiB [===                 ] 15% 3.2s\u001b[0K\u001b[1G82.8 MiB [===                 ] 16% 3.5s\u001b[0K\u001b[1G82.8 MiB [===                 ] 17% 3.5s\u001b[0K\u001b[1G82.8 MiB [====                ] 18% 3.3s\u001b[0K\u001b[1G82.8 MiB [====                ] 19% 3.1s\u001b[0K\u001b[1G82.8 MiB [====                ] 20% 3.0s\u001b[0K\u001b[1G82.8 MiB [=====               ] 22% 2.7s\u001b[0K\u001b[1G82.8 MiB [=====               ] 24% 2.5s\u001b[0K\u001b[1G82.8 MiB [=====               ] 26% 2.3s\u001b[0K\u001b[1G82.8 MiB [=====               ] 26% 2.5s\u001b[0K\u001b[1G82.8 MiB [======              ] 28% 2.4s\u001b[0K\u001b[1G82.8 MiB [======              ] 28% 2.9s\u001b[0K\u001b[1G82.8 MiB [======              ] 29% 3.1s\u001b[0K\u001b[1G82.8 MiB [======              ] 29% 3.3s\u001b[0K\u001b[1G82.8 MiB [======              ] 29% 3.4s\u001b[0K\u001b[1G82.8 MiB [======              ] 29% 3.6s\u001b[0K\u001b[1G82.8 MiB [======              ] 29% 3.7s\u001b[0K\u001b[1G82.8 MiB [======              ] 29% 3.8s\u001b[0K\u001b[1G82.8 MiB [======              ] 30% 3.9s\u001b[0K\u001b[1G82.8 MiB [======              ] 30% 3.8s\u001b[0K\u001b[1G82.8 MiB [======              ] 31% 3.7s\u001b[0K\u001b[1G82.8 MiB [======              ] 32% 3.6s\u001b[0K\u001b[1G82.8 MiB [=======             ] 33% 3.5s\u001b[0K\u001b[1G82.8 MiB [=======             ] 33% 4.3s\u001b[0K\u001b[1G82.8 MiB [=======             ] 34% 4.3s\u001b[0K\u001b[1G82.8 MiB [=======             ] 34% 4.2s\u001b[0K\u001b[1G82.8 MiB [=======             ] 35% 4.1s\u001b[0K\u001b[1G82.8 MiB [=======             ] 36% 4.0s\u001b[0K\u001b[1G82.8 MiB [=======             ] 37% 3.9s\u001b[0K\u001b[1G82.8 MiB [========            ] 37% 3.8s\u001b[0K\u001b[1G82.8 MiB [========            ] 38% 3.8s\u001b[0K\u001b[1G82.8 MiB [========            ] 39% 3.7s\u001b[0K\u001b[1G82.8 MiB [========            ] 39% 3.6s\u001b[0K\u001b[1G82.8 MiB [========            ] 40% 3.5s\u001b[0K\u001b[1G82.8 MiB [========            ] 41% 3.4s\u001b[0K\u001b[1G82.8 MiB [========            ] 42% 3.3s\u001b[0K\u001b[1G82.8 MiB [=========           ] 42% 3.3s\u001b[0K\u001b[1G82.8 MiB [=========           ] 42% 3.4s\u001b[0K\u001b[1G82.8 MiB [=========           ] 43% 3.4s\u001b[0K\u001b[1G82.8 MiB [=========           ] 44% 3.3s\u001b[0K\u001b[1G82.8 MiB [=========           ] 44% 3.2s\u001b[0K\u001b[1G82.8 MiB [=========           ] 45% 3.2s\u001b[0K\u001b[1G82.8 MiB [=========           ] 46% 3.2s\u001b[0K\u001b[1G82.8 MiB [=========           ] 46% 3.3s\u001b[0K\u001b[1G82.8 MiB [=========           ] 47% 3.2s\u001b[0K\u001b[1G82.8 MiB [==========          ] 48% 3.0s\u001b[0K\u001b[1G82.8 MiB [==========          ] 50% 2.9s\u001b[0K\u001b[1G82.8 MiB [==========          ] 50% 2.8s\u001b[0K\u001b[1G82.8 MiB [==========          ] 51% 2.8s\u001b[0K\u001b[1G82.8 MiB [==========          ] 52% 2.7s\u001b[0K\u001b[1G82.8 MiB [==========          ] 52% 2.8s\u001b[0K\u001b[1G82.8 MiB [===========         ] 54% 2.6s\u001b[0K\u001b[1G82.8 MiB [===========         ] 55% 2.5s\u001b[0K\u001b[1G82.8 MiB [===========         ] 56% 2.4s\u001b[0K\u001b[1G82.8 MiB [===========         ] 57% 2.4s\u001b[0K\u001b[1G82.8 MiB [============        ] 57% 2.3s\u001b[0K\u001b[1G82.8 MiB [============        ] 58% 2.3s\u001b[0K\u001b[1G82.8 MiB [============        ] 58% 2.4s\u001b[0K\u001b[1G82.8 MiB [============        ] 60% 2.2s\u001b[0K\u001b[1G82.8 MiB [============        ] 61% 2.1s\u001b[0K\u001b[1G82.8 MiB [============        ] 62% 2.1s\u001b[0K\u001b[1G82.8 MiB [=============       ] 62% 2.1s\u001b[0K\u001b[1G82.8 MiB [=============       ] 63% 2.0s\u001b[0K\u001b[1G82.8 MiB [=============       ] 65% 1.9s\u001b[0K\u001b[1G82.8 MiB [=============       ] 66% 1.9s\u001b[0K\u001b[1G82.8 MiB [=============       ] 66% 1.8s\u001b[0K\u001b[1G82.8 MiB [=============       ] 67% 1.8s\u001b[0K\u001b[1G82.8 MiB [==============      ] 67% 1.8s\u001b[0K\u001b[1G82.8 MiB [==============      ] 68% 1.8s\u001b[0K\u001b[1G82.8 MiB [==============      ] 70% 1.7s\u001b[0K\u001b[1G82.8 MiB [===============     ] 73% 1.5s\u001b[0K\u001b[1G82.8 MiB [===============     ] 74% 1.4s\u001b[0K\u001b[1G82.8 MiB [===============     ] 75% 1.3s\u001b[0K\u001b[1G82.8 MiB [===============     ] 76% 1.3s\u001b[0K\u001b[1G82.8 MiB [===============     ] 76% 1.2s\u001b[0K\u001b[1G82.8 MiB [================    ] 77% 1.2s\u001b[0K\u001b[1G82.8 MiB [================    ] 78% 1.1s\u001b[0K\u001b[1G82.8 MiB [================    ] 79% 1.1s\u001b[0K\u001b[1G82.8 MiB [================    ] 80% 1.0s\u001b[0K\u001b[1G82.8 MiB [================    ] 81% 1.0s\u001b[0K\u001b[1G82.8 MiB [================    ] 82% 0.9s\u001b[0K\u001b[1G82.8 MiB [=================   ] 82% 0.9s\u001b[0K\u001b[1G82.8 MiB [=================   ] 83% 0.9s\u001b[0K\u001b[1G82.8 MiB [=================   ] 84% 0.8s\u001b[0K\u001b[1G82.8 MiB [=================   ] 85% 0.7s\u001b[0K\u001b[1G82.8 MiB [=================   ] 86% 0.8s\u001b[0K\u001b[1G82.8 MiB [==================  ] 87% 0.7s\u001b[0K\u001b[1G82.8 MiB [==================  ] 88% 0.6s\u001b[0K\u001b[1G82.8 MiB [==================  ] 90% 0.5s\u001b[0K\u001b[1G82.8 MiB [==================  ] 91% 0.4s\u001b[0K\u001b[1G82.8 MiB [==================  ] 92% 0.4s\u001b[0K\u001b[1G82.8 MiB [=================== ] 93% 0.4s\u001b[0K\u001b[1G82.8 MiB [=================== ] 93% 0.3s\u001b[0K\u001b[1G82.8 MiB [=================== ] 94% 0.3s\u001b[0K\u001b[1G82.8 MiB [=================== ] 95% 0.2s\u001b[0K\u001b[1G82.8 MiB [=================== ] 96% 0.2s\u001b[0K\u001b[1G82.8 MiB [=================== ] 97% 0.1s\u001b[0K\u001b[1G82.8 MiB [====================] 98% 0.1s\u001b[0K\u001b[1G82.8 MiB [====================] 99% 0.0s\u001b[0K\u001b[1G82.8 MiB [====================] 100% 0.0s\u001b[0K\n",
      "Chromium Headless Shell 136.0.7103.25 (playwright build v1169) downloaded to /Users/suiumkanulanbek/Library/Caches/ms-playwright/chromium_headless_shell-1169\n",
      "Downloading Firefox 137.0 (playwright build v1482)\u001b[2m from https://cdn.playwright.dev/dbazure/download/playwright/builds/firefox/1482/firefox-mac.zip\u001b[22m\n",
      "\u001b[1G91.3 MiB [                    ] 0% 0.0s\u001b[0K\u001b[1G91.3 MiB [                    ] 0% 10.2s\u001b[0K\u001b[1G91.3 MiB [                    ] 0% 8.8s\u001b[0K\u001b[1G91.3 MiB [                    ] 0% 6.2s\u001b[0K\u001b[1G91.3 MiB [                    ] 1% 4.6s\u001b[0K\u001b[1G91.3 MiB [                    ] 2% 3.5s\u001b[0K\u001b[1G91.3 MiB [=                   ] 3% 2.8s\u001b[0K\u001b[1G91.3 MiB [=                   ] 3% 3.0s\u001b[0K\u001b[1G91.3 MiB [=                   ] 4% 2.8s\u001b[0K\u001b[1G91.3 MiB [=                   ] 5% 2.6s\u001b[0K\u001b[1G91.3 MiB [=                   ] 5% 2.7s\u001b[0K\u001b[1G91.3 MiB [=                   ] 6% 4.5s\u001b[0K\u001b[1G91.3 MiB [=                   ] 6% 6.0s\u001b[0K\u001b[1G91.3 MiB [=                   ] 6% 6.4s\u001b[0K\u001b[1G91.3 MiB [=                   ] 7% 5.7s\u001b[0K\u001b[1G91.3 MiB [==                  ] 8% 5.0s\u001b[0K\u001b[1G91.3 MiB [==                  ] 9% 4.7s\u001b[0K\u001b[1G91.3 MiB [==                  ] 9% 4.5s\u001b[0K\u001b[1G91.3 MiB [==                  ] 10% 4.3s\u001b[0K\u001b[1G91.3 MiB [==                  ] 11% 4.2s\u001b[0K\u001b[1G91.3 MiB [==                  ] 11% 4.8s\u001b[0K\u001b[1G91.3 MiB [==                  ] 11% 4.9s\u001b[0K\u001b[1G91.3 MiB [==                  ] 11% 4.7s\u001b[0K\u001b[1G91.3 MiB [==                  ] 12% 4.7s\u001b[0K\u001b[1G91.3 MiB [===                 ] 12% 4.7s\u001b[0K\u001b[1G91.3 MiB [===                 ] 12% 5.3s\u001b[0K\u001b[1G91.3 MiB [===                 ] 12% 5.4s\u001b[0K\u001b[1G91.3 MiB [===                 ] 13% 7.0s\u001b[0K\u001b[1G91.3 MiB [===                 ] 13% 6.7s\u001b[0K\u001b[1G91.3 MiB [===                 ] 15% 6.0s\u001b[0K\u001b[1G91.3 MiB [===                 ] 17% 5.4s\u001b[0K\u001b[1G91.3 MiB [====                ] 18% 5.1s\u001b[0K\u001b[1G91.3 MiB [====                ] 19% 4.7s\u001b[0K\u001b[1G91.3 MiB [====                ] 20% 4.4s\u001b[0K\u001b[1G91.3 MiB [====                ] 21% 4.2s\u001b[0K\u001b[1G91.3 MiB [====                ] 22% 4.9s\u001b[0K\u001b[1G91.3 MiB [=====               ] 23% 4.8s\u001b[0K\u001b[1G91.3 MiB [=====               ] 23% 4.7s\u001b[0K\u001b[1G91.3 MiB [=====               ] 24% 4.6s\u001b[0K\u001b[1G91.3 MiB [=====               ] 25% 4.6s\u001b[0K\u001b[1G91.3 MiB [=====               ] 26% 4.3s\u001b[0K\u001b[1G91.3 MiB [=====               ] 27% 4.3s\u001b[0K\u001b[1G91.3 MiB [======              ] 27% 4.2s\u001b[0K\u001b[1G91.3 MiB [======              ] 28% 4.0s\u001b[0K\u001b[1G91.3 MiB [======              ] 29% 3.9s\u001b[0K\u001b[1G91.3 MiB [======              ] 30% 3.8s\u001b[0K\u001b[1G91.3 MiB [======              ] 31% 3.6s\u001b[0K\u001b[1G91.3 MiB [=======             ] 32% 3.6s\u001b[0K\u001b[1G91.3 MiB [=======             ] 33% 3.6s\u001b[0K\u001b[1G91.3 MiB [=======             ] 33% 3.5s\u001b[0K\u001b[1G91.3 MiB [=======             ] 34% 3.5s\u001b[0K\u001b[1G91.3 MiB [=======             ] 35% 3.4s\u001b[0K\u001b[1G91.3 MiB [=======             ] 35% 3.3s\u001b[0K\u001b[1G91.3 MiB [=======             ] 36% 3.3s\u001b[0K\u001b[1G91.3 MiB [========            ] 38% 3.1s\u001b[0K\u001b[1G91.3 MiB [========            ] 39% 2.9s\u001b[0K\u001b[1G91.3 MiB [========            ] 40% 2.9s\u001b[0K\u001b[1G91.3 MiB [========            ] 40% 3.0s\u001b[0K\u001b[1G91.3 MiB [========            ] 41% 2.9s\u001b[0K\u001b[1G91.3 MiB [=========           ] 42% 2.8s\u001b[0K\u001b[1G91.3 MiB [=========           ] 44% 2.6s\u001b[0K\u001b[1G91.3 MiB [=========           ] 45% 2.5s\u001b[0K\u001b[1G91.3 MiB [=========           ] 46% 2.4s\u001b[0K\u001b[1G91.3 MiB [==========          ] 48% 2.3s\u001b[0K\u001b[1G91.3 MiB [==========          ] 49% 2.2s\u001b[0K\u001b[1G91.3 MiB [==========          ] 50% 2.1s\u001b[0K\u001b[1G91.3 MiB [==========          ] 50% 2.2s\u001b[0K\u001b[1G91.3 MiB [==========          ] 50% 2.3s\u001b[0K\u001b[1G91.3 MiB [==========          ] 51% 2.2s\u001b[0K\u001b[1G91.3 MiB [==========          ] 52% 2.2s\u001b[0K\u001b[1G91.3 MiB [===========         ] 53% 2.1s\u001b[0K\u001b[1G91.3 MiB [===========         ] 54% 2.1s\u001b[0K\u001b[1G91.3 MiB [===========         ] 56% 1.9s\u001b[0K\u001b[1G91.3 MiB [============        ] 57% 1.8s\u001b[0K\u001b[1G91.3 MiB [============        ] 58% 1.8s\u001b[0K\u001b[1G91.3 MiB [============        ] 59% 1.7s\u001b[0K\u001b[1G91.3 MiB [============        ] 60% 1.7s\u001b[0K\u001b[1G91.3 MiB [============        ] 61% 1.6s\u001b[0K\u001b[1G91.3 MiB [============        ] 62% 1.6s\u001b[0K\u001b[1G91.3 MiB [=============       ] 62% 1.6s\u001b[0K\u001b[1G91.3 MiB [=============       ] 63% 1.5s\u001b[0K\u001b[1G91.3 MiB [=============       ] 64% 1.5s\u001b[0K\u001b[1G91.3 MiB [=============       ] 65% 1.4s\u001b[0K\u001b[1G91.3 MiB [=============       ] 67% 1.4s\u001b[0K\u001b[1G91.3 MiB [==============      ] 68% 1.3s\u001b[0K\u001b[1G91.3 MiB [==============      ] 69% 1.2s\u001b[0K\u001b[1G91.3 MiB [==============      ] 70% 1.2s\u001b[0K\u001b[1G91.3 MiB [===============     ] 72% 1.1s\u001b[0K\u001b[1G91.3 MiB [===============     ] 74% 1.0s\u001b[0K\u001b[1G91.3 MiB [===============     ] 76% 0.9s\u001b[0K\u001b[1G91.3 MiB [===============     ] 77% 0.9s\u001b[0K\u001b[1G91.3 MiB [================    ] 78% 0.8s\u001b[0K\u001b[1G91.3 MiB [================    ] 79% 0.7s\u001b[0K\u001b[1G91.3 MiB [================    ] 80% 0.7s\u001b[0K\u001b[1G91.3 MiB [================    ] 81% 0.7s\u001b[0K\u001b[1G91.3 MiB [=================   ] 83% 0.6s\u001b[0K\u001b[1G91.3 MiB [=================   ] 84% 0.5s\u001b[0K\u001b[1G91.3 MiB [=================   ] 86% 0.5s\u001b[0K\u001b[1G91.3 MiB [==================  ] 87% 0.4s\u001b[0K\u001b[1G91.3 MiB [==================  ] 88% 0.4s\u001b[0K\u001b[1G91.3 MiB [==================  ] 89% 0.4s\u001b[0K\u001b[1G91.3 MiB [==================  ] 90% 0.3s\u001b[0K\u001b[1G91.3 MiB [==================  ] 92% 0.3s\u001b[0K\u001b[1G91.3 MiB [=================== ] 93% 0.2s\u001b[0K\u001b[1G91.3 MiB [=================== ] 94% 0.2s\u001b[0K\u001b[1G91.3 MiB [=================== ] 95% 0.2s\u001b[0K\u001b[1G91.3 MiB [=================== ] 96% 0.1s\u001b[0K\u001b[1G91.3 MiB [=================== ] 97% 0.1s\u001b[0K\u001b[1G91.3 MiB [====================] 98% 0.1s\u001b[0K\u001b[1G91.3 MiB [====================] 99% 0.0s\u001b[0K\u001b[1G91.3 MiB [====================] 100% 0.0s\u001b[0K\n",
      "Firefox 137.0 (playwright build v1482) downloaded to /Users/suiumkanulanbek/Library/Caches/ms-playwright/firefox-1482\n",
      "Downloading Webkit 18.4 (playwright build v2158)\u001b[2m from https://cdn.playwright.dev/dbazure/download/playwright/builds/webkit/2158/webkit-mac-14.zip\u001b[22m\n",
      "\u001b[1G78.2 MiB [                    ] 0% 0.0s\u001b[0K\u001b[1G78.2 MiB [                    ] 0% 5.3s\u001b[0K\u001b[1G78.2 MiB [                    ] 0% 5.7s\u001b[0K\u001b[1G78.2 MiB [                    ] 1% 3.0s\u001b[0K\u001b[1G78.2 MiB [                    ] 1% 3.6s\u001b[0K\u001b[1G78.2 MiB [                    ] 2% 3.7s\u001b[0K\u001b[1G78.2 MiB [                    ] 2% 3.9s\u001b[0K\u001b[1G78.2 MiB [=                   ] 3% 3.3s\u001b[0K\u001b[1G78.2 MiB [=                   ] 4% 2.6s\u001b[0K\u001b[1G78.2 MiB [=                   ] 5% 2.4s\u001b[0K\u001b[1G78.2 MiB [=                   ] 6% 2.3s\u001b[0K\u001b[1G78.2 MiB [=                   ] 7% 2.2s\u001b[0K\u001b[1G78.2 MiB [==                  ] 8% 2.1s\u001b[0K\u001b[1G78.2 MiB [==                  ] 9% 2.1s\u001b[0K\u001b[1G78.2 MiB [==                  ] 10% 1.9s\u001b[0K\u001b[1G78.2 MiB [==                  ] 11% 1.9s\u001b[0K\u001b[1G78.2 MiB [==                  ] 12% 1.9s\u001b[0K\u001b[1G78.2 MiB [===                 ] 12% 2.0s\u001b[0K\u001b[1G78.2 MiB [===                 ] 13% 1.9s\u001b[0K\u001b[1G78.2 MiB [===                 ] 14% 1.9s\u001b[0K\u001b[1G78.2 MiB [===                 ] 15% 1.8s\u001b[0K\u001b[1G78.2 MiB [===                 ] 16% 1.7s\u001b[0K\u001b[1G78.2 MiB [====                ] 18% 1.6s\u001b[0K\u001b[1G78.2 MiB [====                ] 19% 1.6s\u001b[0K\u001b[1G78.2 MiB [====                ] 20% 1.5s\u001b[0K\u001b[1G78.2 MiB [====                ] 21% 1.5s\u001b[0K\u001b[1G78.2 MiB [====                ] 21% 1.6s\u001b[0K\u001b[1G78.2 MiB [====                ] 22% 1.6s\u001b[0K\u001b[1G78.2 MiB [=====               ] 23% 1.5s\u001b[0K\u001b[1G78.2 MiB [=====               ] 24% 1.5s\u001b[0K\u001b[1G78.2 MiB [=====               ] 25% 1.5s\u001b[0K\u001b[1G78.2 MiB [=====               ] 27% 1.4s\u001b[0K\u001b[1G78.2 MiB [======              ] 28% 1.4s\u001b[0K\u001b[1G78.2 MiB [======              ] 29% 1.4s\u001b[0K\u001b[1G78.2 MiB [======              ] 30% 1.4s\u001b[0K\u001b[1G78.2 MiB [======              ] 30% 1.5s\u001b[0K\u001b[1G78.2 MiB [======              ] 31% 1.5s\u001b[0K\u001b[1G78.2 MiB [======              ] 32% 1.4s\u001b[0K\u001b[1G78.2 MiB [=======             ] 33% 1.4s\u001b[0K\u001b[1G78.2 MiB [=======             ] 34% 1.4s\u001b[0K\u001b[1G78.2 MiB [=======             ] 35% 1.4s\u001b[0K\u001b[1G78.2 MiB [=======             ] 37% 1.3s\u001b[0K\u001b[1G78.2 MiB [========            ] 38% 1.3s\u001b[0K\u001b[1G78.2 MiB [========            ] 40% 1.2s\u001b[0K\u001b[1G78.2 MiB [========            ] 41% 1.2s\u001b[0K\u001b[1G78.2 MiB [=========           ] 42% 1.1s\u001b[0K\u001b[1G78.2 MiB [=========           ] 44% 1.1s\u001b[0K\u001b[1G78.2 MiB [=========           ] 45% 1.1s\u001b[0K\u001b[1G78.2 MiB [=========           ] 46% 1.0s\u001b[0K\u001b[1G78.2 MiB [==========          ] 47% 1.0s\u001b[0K\u001b[1G78.2 MiB [==========          ] 48% 1.0s\u001b[0K\u001b[1G78.2 MiB [==========          ] 49% 1.0s\u001b[0K\u001b[1G78.2 MiB [==========          ] 50% 1.0s\u001b[0K\u001b[1G78.2 MiB [==========          ] 51% 1.0s\u001b[0K\u001b[1G78.2 MiB [===========         ] 52% 0.9s\u001b[0K\u001b[1G78.2 MiB [===========         ] 53% 0.9s\u001b[0K\u001b[1G78.2 MiB [===========         ] 53% 1.0s\u001b[0K\u001b[1G78.2 MiB [===========         ] 54% 0.9s\u001b[0K\u001b[1G78.2 MiB [===========         ] 56% 0.9s\u001b[0K\u001b[1G78.2 MiB [===========         ] 57% 0.9s\u001b[0K\u001b[1G78.2 MiB [============        ] 57% 0.8s\u001b[0K\u001b[1G78.2 MiB [============        ] 59% 0.8s\u001b[0K\u001b[1G78.2 MiB [============        ] 61% 0.8s\u001b[0K\u001b[1G78.2 MiB [=============       ] 63% 0.7s\u001b[0K\u001b[1G78.2 MiB [=============       ] 64% 0.7s\u001b[0K\u001b[1G78.2 MiB [=============       ] 66% 0.6s\u001b[0K\u001b[1G78.2 MiB [=============       ] 67% 0.6s\u001b[0K\u001b[1G78.2 MiB [==============      ] 68% 0.6s\u001b[0K\u001b[1G78.2 MiB [==============      ] 69% 0.6s\u001b[0K\u001b[1G78.2 MiB [==============      ] 70% 0.6s\u001b[0K\u001b[1G78.2 MiB [==============      ] 71% 0.6s\u001b[0K\u001b[1G78.2 MiB [===============     ] 73% 0.5s\u001b[0K\u001b[1G78.2 MiB [===============     ] 74% 0.5s\u001b[0K\u001b[1G78.2 MiB [===============     ] 76% 0.5s\u001b[0K\u001b[1G78.2 MiB [================    ] 78% 0.4s\u001b[0K\u001b[1G78.2 MiB [================    ] 79% 0.4s\u001b[0K\u001b[1G78.2 MiB [================    ] 80% 0.4s\u001b[0K\u001b[1G78.2 MiB [================    ] 81% 0.4s\u001b[0K\u001b[1G78.2 MiB [================    ] 82% 0.4s\u001b[0K\u001b[1G78.2 MiB [=================   ] 83% 0.3s\u001b[0K\u001b[1G78.2 MiB [=================   ] 86% 0.3s\u001b[0K\u001b[1G78.2 MiB [==================  ] 88% 0.2s\u001b[0K\u001b[1G78.2 MiB [==================  ] 89% 0.2s\u001b[0K\u001b[1G78.2 MiB [==================  ] 90% 0.2s\u001b[0K\u001b[1G78.2 MiB [==================  ] 91% 0.2s\u001b[0K\u001b[1G78.2 MiB [==================  ] 92% 0.1s\u001b[0K\u001b[1G78.2 MiB [=================== ] 93% 0.1s\u001b[0K\u001b[1G78.2 MiB [=================== ] 94% 0.1s\u001b[0K\u001b[1G78.2 MiB [=================== ] 96% 0.1s\u001b[0K\u001b[1G78.2 MiB [====================] 98% 0.0s\u001b[0K\u001b[1G78.2 MiB [====================] 100% 0.0s\u001b[0K\n",
      "Webkit 18.4 (playwright build v2158) downloaded to /Users/suiumkanulanbek/Library/Caches/ms-playwright/webkit-2158\n",
      "Downloading FFMPEG playwright build v1011\u001b[2m from https://cdn.playwright.dev/dbazure/download/playwright/builds/ffmpeg/1011/ffmpeg-mac.zip\u001b[22m\n",
      "\u001b[1G1.3 MiB [                    ] 0% 0.0s\u001b[0K\u001b[1G1.3 MiB [==                  ] 11% 0.1s\u001b[0K\u001b[1G1.3 MiB [============        ] 61% 0.0s\u001b[0K\u001b[1G1.3 MiB [====================] 100% 0.0s\u001b[0K\n",
      "FFMPEG playwright build v1011 downloaded to /Users/suiumkanulanbek/Library/Caches/ms-playwright/ffmpeg-1011\n"
     ]
    }
   ],
   "source": [
    "!python -m playwright install"
   ]
  },
  {
   "cell_type": "code",
   "execution_count": 23,
   "id": "8dc816c3-f610-4501-a61a-867f727fc4c2",
   "metadata": {},
   "outputs": [],
   "source": [
    "!python -m venv venv"
   ]
  },
  {
   "cell_type": "code",
   "execution_count": 24,
   "id": "16aa2568-fe7f-409b-ae43-86abacbf46a2",
   "metadata": {},
   "outputs": [
    {
     "name": "stdout",
     "output_type": "stream",
     "text": [
      "Collecting ipykernel\n",
      "  Using cached ipykernel-6.29.5-py3-none-any.whl.metadata (6.3 kB)\n",
      "Collecting playwright\n",
      "  Using cached playwright-1.52.0-py3-none-macosx_11_0_universal2.whl.metadata (3.5 kB)\n",
      "Collecting appnope (from ipykernel)\n",
      "  Using cached appnope-0.1.4-py2.py3-none-any.whl.metadata (908 bytes)\n",
      "Collecting comm>=0.1.1 (from ipykernel)\n",
      "  Using cached comm-0.2.2-py3-none-any.whl.metadata (3.7 kB)\n",
      "Collecting debugpy>=1.6.5 (from ipykernel)\n",
      "  Downloading debugpy-1.8.14-cp311-cp311-macosx_14_0_universal2.whl.metadata (1.3 kB)\n",
      "Collecting ipython>=7.23.1 (from ipykernel)\n",
      "  Downloading ipython-9.2.0-py3-none-any.whl.metadata (4.4 kB)\n",
      "Collecting jupyter-client>=6.1.12 (from ipykernel)\n",
      "  Using cached jupyter_client-8.6.3-py3-none-any.whl.metadata (8.3 kB)\n",
      "Collecting jupyter-core!=5.0.*,>=4.12 (from ipykernel)\n",
      "  Using cached jupyter_core-5.7.2-py3-none-any.whl.metadata (3.4 kB)\n",
      "Collecting matplotlib-inline>=0.1 (from ipykernel)\n",
      "  Using cached matplotlib_inline-0.1.7-py3-none-any.whl.metadata (3.9 kB)\n",
      "Collecting nest-asyncio (from ipykernel)\n",
      "  Using cached nest_asyncio-1.6.0-py3-none-any.whl.metadata (2.8 kB)\n",
      "Collecting packaging (from ipykernel)\n",
      "  Using cached packaging-25.0-py3-none-any.whl.metadata (3.3 kB)\n",
      "Collecting psutil (from ipykernel)\n",
      "  Using cached psutil-7.0.0-cp36-abi3-macosx_10_9_x86_64.whl.metadata (22 kB)\n",
      "Collecting pyzmq>=24 (from ipykernel)\n",
      "  Downloading pyzmq-26.4.0-cp311-cp311-macosx_10_15_universal2.whl.metadata (6.0 kB)\n",
      "Collecting tornado>=6.1 (from ipykernel)\n",
      "  Using cached tornado-6.4.2-cp38-abi3-macosx_10_9_x86_64.whl.metadata (2.5 kB)\n",
      "Collecting traitlets>=5.4.0 (from ipykernel)\n",
      "  Using cached traitlets-5.14.3-py3-none-any.whl.metadata (10 kB)\n",
      "Collecting pyee<14,>=13 (from playwright)\n",
      "  Using cached pyee-13.0.0-py3-none-any.whl.metadata (2.9 kB)\n",
      "Collecting greenlet<4.0.0,>=3.1.1 (from playwright)\n",
      "  Using cached greenlet-3.2.1-cp311-cp311-macosx_11_0_universal2.whl.metadata (4.1 kB)\n",
      "Collecting decorator (from ipython>=7.23.1->ipykernel)\n",
      "  Using cached decorator-5.2.1-py3-none-any.whl.metadata (3.9 kB)\n",
      "Collecting ipython-pygments-lexers (from ipython>=7.23.1->ipykernel)\n",
      "  Downloading ipython_pygments_lexers-1.1.1-py3-none-any.whl.metadata (1.1 kB)\n",
      "Collecting jedi>=0.16 (from ipython>=7.23.1->ipykernel)\n",
      "  Using cached jedi-0.19.2-py2.py3-none-any.whl.metadata (22 kB)\n",
      "Collecting pexpect>4.3 (from ipython>=7.23.1->ipykernel)\n",
      "  Using cached pexpect-4.9.0-py2.py3-none-any.whl.metadata (2.5 kB)\n",
      "Collecting prompt_toolkit<3.1.0,>=3.0.41 (from ipython>=7.23.1->ipykernel)\n",
      "  Using cached prompt_toolkit-3.0.51-py3-none-any.whl.metadata (6.4 kB)\n",
      "Collecting pygments>=2.4.0 (from ipython>=7.23.1->ipykernel)\n",
      "  Using cached pygments-2.19.1-py3-none-any.whl.metadata (2.5 kB)\n",
      "Collecting stack_data (from ipython>=7.23.1->ipykernel)\n",
      "  Using cached stack_data-0.6.3-py3-none-any.whl.metadata (18 kB)\n",
      "Collecting typing_extensions>=4.6 (from ipython>=7.23.1->ipykernel)\n",
      "  Using cached typing_extensions-4.13.2-py3-none-any.whl.metadata (3.0 kB)\n",
      "Collecting python-dateutil>=2.8.2 (from jupyter-client>=6.1.12->ipykernel)\n",
      "  Using cached python_dateutil-2.9.0.post0-py2.py3-none-any.whl.metadata (8.4 kB)\n",
      "Collecting platformdirs>=2.5 (from jupyter-core!=5.0.*,>=4.12->ipykernel)\n",
      "  Using cached platformdirs-4.3.7-py3-none-any.whl.metadata (11 kB)\n",
      "Collecting parso<0.9.0,>=0.8.4 (from jedi>=0.16->ipython>=7.23.1->ipykernel)\n",
      "  Using cached parso-0.8.4-py2.py3-none-any.whl.metadata (7.7 kB)\n",
      "Collecting ptyprocess>=0.5 (from pexpect>4.3->ipython>=7.23.1->ipykernel)\n",
      "  Using cached ptyprocess-0.7.0-py2.py3-none-any.whl.metadata (1.3 kB)\n",
      "Collecting wcwidth (from prompt_toolkit<3.1.0,>=3.0.41->ipython>=7.23.1->ipykernel)\n",
      "  Using cached wcwidth-0.2.13-py2.py3-none-any.whl.metadata (14 kB)\n",
      "Collecting six>=1.5 (from python-dateutil>=2.8.2->jupyter-client>=6.1.12->ipykernel)\n",
      "  Using cached six-1.17.0-py2.py3-none-any.whl.metadata (1.7 kB)\n",
      "Collecting executing>=1.2.0 (from stack_data->ipython>=7.23.1->ipykernel)\n",
      "  Using cached executing-2.2.0-py2.py3-none-any.whl.metadata (8.9 kB)\n",
      "Collecting asttokens>=2.1.0 (from stack_data->ipython>=7.23.1->ipykernel)\n",
      "  Using cached asttokens-3.0.0-py3-none-any.whl.metadata (4.7 kB)\n",
      "Collecting pure-eval (from stack_data->ipython>=7.23.1->ipykernel)\n",
      "  Using cached pure_eval-0.2.3-py3-none-any.whl.metadata (6.3 kB)\n",
      "Using cached ipykernel-6.29.5-py3-none-any.whl (117 kB)\n",
      "Using cached playwright-1.52.0-py3-none-macosx_11_0_universal2.whl (39.6 MB)\n",
      "Using cached comm-0.2.2-py3-none-any.whl (7.2 kB)\n",
      "Downloading debugpy-1.8.14-cp311-cp311-macosx_14_0_universal2.whl (2.2 MB)\n",
      "\u001b[2K   \u001b[90m━━━━━━━━━━━━━━━━━━━━━━━━━━━━━━━━━━━━━━━━\u001b[0m \u001b[32m2.2/2.2 MB\u001b[0m \u001b[31m9.7 MB/s\u001b[0m eta \u001b[36m0:00:00\u001b[0m:00:01\u001b[0m00:01\u001b[0m\n",
      "\u001b[?25hUsing cached greenlet-3.2.1-cp311-cp311-macosx_11_0_universal2.whl (268 kB)\n",
      "Downloading ipython-9.2.0-py3-none-any.whl (604 kB)\n",
      "\u001b[2K   \u001b[90m━━━━━━━━━━━━━━━━━━━━━━━━━━━━━━━━━━━━━━━━\u001b[0m \u001b[32m604.3/604.3 kB\u001b[0m \u001b[31m13.2 MB/s\u001b[0m eta \u001b[36m0:00:00\u001b[0m00:01\u001b[0m\n",
      "Using cached jupyter_client-8.6.3-py3-none-any.whl (106 kB)\n",
      "Using cached jupyter_core-5.7.2-py3-none-any.whl (28 kB)\n",
      "Using cached matplotlib_inline-0.1.7-py3-none-any.whl (9.9 kB)\n",
      "Using cached pyee-13.0.0-py3-none-any.whl (15 kB)\n",
      "Downloading pyzmq-26.4.0-cp311-cp311-macosx_10_15_universal2.whl (1.3 MB)\n",
      "\u001b[2K   \u001b[90m━━━━━━━━━━━━━━━━━━━━━━━━━━━━━━━━━━━━━━━━\u001b[0m \u001b[32m1.3/1.3 MB\u001b[0m \u001b[31m22.5 MB/s\u001b[0m eta \u001b[36m0:00:00\u001b[0m00:01\u001b[0m\n",
      "\u001b[?25hUsing cached tornado-6.4.2-cp38-abi3-macosx_10_9_x86_64.whl (434 kB)\n",
      "Using cached traitlets-5.14.3-py3-none-any.whl (85 kB)\n",
      "Using cached appnope-0.1.4-py2.py3-none-any.whl (4.3 kB)\n",
      "Using cached nest_asyncio-1.6.0-py3-none-any.whl (5.2 kB)\n",
      "Using cached packaging-25.0-py3-none-any.whl (66 kB)\n",
      "Using cached psutil-7.0.0-cp36-abi3-macosx_10_9_x86_64.whl (238 kB)\n",
      "Using cached jedi-0.19.2-py2.py3-none-any.whl (1.6 MB)\n",
      "Using cached pexpect-4.9.0-py2.py3-none-any.whl (63 kB)\n",
      "Using cached platformdirs-4.3.7-py3-none-any.whl (18 kB)\n",
      "Using cached prompt_toolkit-3.0.51-py3-none-any.whl (387 kB)\n",
      "Using cached pygments-2.19.1-py3-none-any.whl (1.2 MB)\n",
      "Using cached python_dateutil-2.9.0.post0-py2.py3-none-any.whl (229 kB)\n",
      "Using cached typing_extensions-4.13.2-py3-none-any.whl (45 kB)\n",
      "Using cached decorator-5.2.1-py3-none-any.whl (9.2 kB)\n",
      "Downloading ipython_pygments_lexers-1.1.1-py3-none-any.whl (8.1 kB)\n",
      "Using cached stack_data-0.6.3-py3-none-any.whl (24 kB)\n",
      "Using cached asttokens-3.0.0-py3-none-any.whl (26 kB)\n",
      "Using cached executing-2.2.0-py2.py3-none-any.whl (26 kB)\n",
      "Using cached parso-0.8.4-py2.py3-none-any.whl (103 kB)\n",
      "Using cached ptyprocess-0.7.0-py2.py3-none-any.whl (13 kB)\n",
      "Using cached six-1.17.0-py2.py3-none-any.whl (11 kB)\n",
      "Using cached pure_eval-0.2.3-py3-none-any.whl (11 kB)\n",
      "Using cached wcwidth-0.2.13-py2.py3-none-any.whl (34 kB)\n",
      "Installing collected packages: wcwidth, pure-eval, ptyprocess, typing_extensions, traitlets, tornado, six, pyzmq, pygments, psutil, prompt_toolkit, platformdirs, pexpect, parso, packaging, nest-asyncio, greenlet, executing, decorator, debugpy, asttokens, appnope, stack_data, python-dateutil, pyee, matplotlib-inline, jupyter-core, jedi, ipython-pygments-lexers, comm, playwright, jupyter-client, ipython, ipykernel\n",
      "Successfully installed appnope-0.1.4 asttokens-3.0.0 comm-0.2.2 debugpy-1.8.14 decorator-5.2.1 executing-2.2.0 greenlet-3.2.1 ipykernel-6.29.5 ipython-9.2.0 ipython-pygments-lexers-1.1.1 jedi-0.19.2 jupyter-client-8.6.3 jupyter-core-5.7.2 matplotlib-inline-0.1.7 nest-asyncio-1.6.0 packaging-25.0 parso-0.8.4 pexpect-4.9.0 platformdirs-4.3.7 playwright-1.52.0 prompt_toolkit-3.0.51 psutil-7.0.0 ptyprocess-0.7.0 pure-eval-0.2.3 pyee-13.0.0 pygments-2.19.1 python-dateutil-2.9.0.post0 pyzmq-26.4.0 six-1.17.0 stack_data-0.6.3 tornado-6.4.2 traitlets-5.14.3 typing_extensions-4.13.2 wcwidth-0.2.13\n",
      "\n",
      "\u001b[1m[\u001b[0m\u001b[34;49mnotice\u001b[0m\u001b[1;39;49m]\u001b[0m\u001b[39;49m A new release of pip is available: \u001b[0m\u001b[31;49m24.0\u001b[0m\u001b[39;49m -> \u001b[0m\u001b[32;49m25.1.1\u001b[0m\n",
      "\u001b[1m[\u001b[0m\u001b[34;49mnotice\u001b[0m\u001b[1;39;49m]\u001b[0m\u001b[39;49m To update, run: \u001b[0m\u001b[32;49mpython -m pip install --upgrade pip\u001b[0m\n",
      "Installed kernelspec playwright_env in /Users/suiumkanulanbek/Library/Jupyter/kernels/playwright_env\n"
     ]
    }
   ],
   "source": [
    "!venv/bin/pip install ipykernel playwright\n",
    "!venv/bin/python -m ipykernel install --user --name=playwright_env --display-name=\"Python (Playwright)\""
   ]
  },
  {
   "cell_type": "code",
   "execution_count": 25,
   "id": "f17b65d7-b381-4f78-9955-1a20087eaa8e",
   "metadata": {},
   "outputs": [],
   "source": [
    "!venv/bin/python -m playwright install"
   ]
  },
  {
   "cell_type": "code",
   "execution_count": 2,
   "id": "6afc1de9-ddf4-4e85-9564-23291065154d",
   "metadata": {},
   "outputs": [
    {
     "name": "stdout",
     "output_type": "stream",
     "text": [
      "Requirement already satisfied: beautifulsoup4 in /Users/suiumkanulanbek/.pyenv/versions/3.11.8/lib/python3.11/site-packages (4.12.3)\n",
      "Requirement already satisfied: soupsieve>1.2 in /Users/suiumkanulanbek/.pyenv/versions/3.11.8/lib/python3.11/site-packages (from beautifulsoup4) (2.6)\n",
      "\n",
      "\u001b[1m[\u001b[0m\u001b[34;49mnotice\u001b[0m\u001b[1;39;49m]\u001b[0m\u001b[39;49m A new release of pip is available: \u001b[0m\u001b[31;49m24.0\u001b[0m\u001b[39;49m -> \u001b[0m\u001b[32;49m25.1\u001b[0m\n",
      "\u001b[1m[\u001b[0m\u001b[34;49mnotice\u001b[0m\u001b[1;39;49m]\u001b[0m\u001b[39;49m To update, run: \u001b[0m\u001b[32;49mpip install --upgrade pip\u001b[0m\n"
     ]
    }
   ],
   "source": [
    "!pip install beautifulsoup4"
   ]
  },
  {
   "cell_type": "code",
   "execution_count": 1,
   "id": "1acb31a9-2cae-4111-a0ab-68ad7566a697",
   "metadata": {},
   "outputs": [
    {
     "ename": "ModuleNotFoundError",
     "evalue": "No module named 'bs4'",
     "output_type": "error",
     "traceback": [
      "\u001b[31m---------------------------------------------------------------------------\u001b[39m",
      "\u001b[31mModuleNotFoundError\u001b[39m                       Traceback (most recent call last)",
      "\u001b[36mCell\u001b[39m\u001b[36m \u001b[39m\u001b[32mIn[1]\u001b[39m\u001b[32m, line 3\u001b[39m\n\u001b[32m      1\u001b[39m \u001b[38;5;28;01mimport\u001b[39;00m\u001b[38;5;250m \u001b[39m\u001b[34;01masyncio\u001b[39;00m\n\u001b[32m      2\u001b[39m \u001b[38;5;28;01mfrom\u001b[39;00m\u001b[38;5;250m \u001b[39m\u001b[34;01mplaywright\u001b[39;00m\u001b[34;01m.\u001b[39;00m\u001b[34;01masync_api\u001b[39;00m\u001b[38;5;250m \u001b[39m\u001b[38;5;28;01mimport\u001b[39;00m async_playwright\n\u001b[32m----> \u001b[39m\u001b[32m3\u001b[39m \u001b[38;5;28;01mfrom\u001b[39;00m\u001b[38;5;250m \u001b[39m\u001b[34;01mbs4\u001b[39;00m\u001b[38;5;250m \u001b[39m\u001b[38;5;28;01mimport\u001b[39;00m BeautifulSoup\n\u001b[32m      4\u001b[39m \u001b[38;5;28;01mimport\u001b[39;00m\u001b[38;5;250m \u001b[39m\u001b[34;01mrandom\u001b[39;00m\n\u001b[32m      5\u001b[39m \u001b[38;5;28;01mimport\u001b[39;00m\u001b[38;5;250m \u001b[39m\u001b[34;01mtime\u001b[39;00m\n",
      "\u001b[31mModuleNotFoundError\u001b[39m: No module named 'bs4'"
     ]
    }
   ],
   "source": [
    "import asyncio\n",
    "from playwright.async_api import async_playwright\n",
    "from bs4 import BeautifulSoup\n",
    "import random\n",
    "import time\n",
    "\n",
    "async def scrape_with_playwright(url):\n",
    "    async with async_playwright() as p:\n",
    "        browser = await p.chromium.launch(headless=True)\n",
    "        \n",
    "        \n",
    "        context = await browser.new_context(\n",
    "            user_agent=\"Mozilla/5.0 (Windows NT 10.0; Win64; x64) AppleWebKit/537.36 (KHTML, like Gecko) Chrome/121.0.0.0 Safari/537.36\",\n",
    "            viewport={\"width\": 1920, \"height\": 1080},\n",
    "            device_scale_factor=1,\n",
    "            bypass_csp=True,\n",
    "            permissions=[\"geolocation\"]\n",
    "        )\n",
    "    \n",
    "        page = await context.new_page()\n",
    "        \n",
    "        await page.goto(url, wait_until=\"networkidle\")\n",
    "        \n",
    "        for _ in range(random.randint(1, 3)):\n",
    "            await page.mouse.wheel(0, random.randint(300, 700))\n",
    "            await asyncio.sleep(random.uniform(0.5, 2))\n",
    "        \n",
    "        content = await page.content()\n",
    "        soup = BeautifulSoup(content, \"html.parser\")\n",
    "        \n",
    "\n",
    "        await browser.close()\n",
    "        \n",
    "        return soup\n",
    "\n",
    "# Example usage\n",
    "async def main():\n",
    "    url = \"https://wallethub.com/edu/best-worst-cities-for-singles/9015\"\n",
    "    soup = await scrape_with_playwright(url)\n",
    "    \n",
    "    # Example: Extract table data\n",
    "    tables = soup.find_all('table')\n",
    "    for table in tables:\n",
    "        # Process your table here\n",
    "        print(table)\n",
    "\n",
    "# Run the async function\n",
    "asyncio.run(main())"
   ]
  },
  {
   "cell_type": "code",
   "execution_count": null,
   "id": "c4994f14-4176-40d8-a906-a6f12d9d54da",
   "metadata": {},
   "outputs": [],
   "source": []
  }
 ],
 "metadata": {
  "kernelspec": {
   "display_name": "Python (Playwright)",
   "language": "python",
   "name": "playwright_env"
  },
  "language_info": {
   "codemirror_mode": {
    "name": "ipython",
    "version": 3
   },
   "file_extension": ".py",
   "mimetype": "text/x-python",
   "name": "python",
   "nbconvert_exporter": "python",
   "pygments_lexer": "ipython3",
   "version": "3.11.8"
  }
 },
 "nbformat": 4,
 "nbformat_minor": 5
}
